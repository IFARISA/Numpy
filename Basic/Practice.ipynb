{
 "cells": [
  {
   "metadata": {},
   "cell_type": "markdown",
   "source": [
    "# Numpy\n",
    "\n",
    "- NumPy (Numerical Python) is a powerful Python library used for numerical computing.\n",
    "\n",
    "- It provides support for large, multi-dimensional arrays and matrices\n",
    "\n",
    "- Why Use NumPy?\n",
    "\n",
    "- Faster computation: NumPy arrays are significantly faster than Python lists.\n",
    "\n",
    "- Efficient memory usage: Uses less memory compared to lists.\n",
    "\n",
    "- Vectorized operations: Performs element-wise operations without explicit loops.\n",
    "\n",
    "- Support for mathematical and statistical functions: Includes functions for linear algebra, random number generation, and more."
   ],
   "id": "449c6858338e89cb"
  },
  {
   "metadata": {
    "ExecuteTime": {
     "end_time": "2025-03-20T20:30:27.561081Z",
     "start_time": "2025-03-20T20:30:27.346519Z"
    }
   },
   "cell_type": "code",
   "source": [
    "# pip install numpy\n",
    "# pip show numpy --> print info about numpy package\n",
    "import numpy as np"
   ],
   "id": "initial_id",
   "outputs": [],
   "execution_count": 1
  }
 ],
 "metadata": {
  "kernelspec": {
   "display_name": "Python 3 (ipykernel)",
   "language": "python",
   "name": "python3"
  },
  "language_info": {
   "codemirror_mode": {
    "name": "ipython",
    "version": 3
   },
   "file_extension": ".py",
   "mimetype": "text/x-python",
   "name": "python",
   "nbconvert_exporter": "python",
   "pygments_lexer": "ipython3",
   "version": "3.12.4"
  }
 },
 "nbformat": 4,
 "nbformat_minor": 5
}
